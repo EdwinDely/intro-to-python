{
 "cells": [
  {
   "cell_type": "markdown",
   "metadata": {},
   "source": [
    "# Supernova Cosmology"
   ]
  },
  {
   "cell_type": "markdown",
   "metadata": {},
   "source": [
    "In this final exercise, you will be analyzing data from Type Ia supernovae to try to constrain fundamental cosmological parameters, namely the portion of the energy in the universe that is composed of matter $\\Omega_{m,0}$ and dark energy $\\Omega_{\\Lambda,0}$.\n",
    "\n",
    "This notebook will build on all the skills and exercises covered in previously in the course and will require you to code up most of the material from scratch. Just progressing a decent ways through this notebook is already a huge accomplishment given that last week we were covering Python basics."
   ]
  },
  {
   "cell_type": "markdown",
   "metadata": {},
   "source": [
    "# Objective Review"
   ]
  },
  {
   "cell_type": "markdown",
   "metadata": {},
   "source": [
    "Remember, the overall goals here are to (1) learn the basics of using Python for data analysis and (2) get comfortable hacking at/debugging code. Proceed at whatever pace is most suitable for you so that you feel you're learning new things and taking away skills that you can apply to coding in the future!"
   ]
  },
  {
   "cell_type": "markdown",
   "metadata": {},
   "source": [
    "# Preamble"
   ]
  },
  {
   "cell_type": "markdown",
   "metadata": {},
   "source": [
    "As always, we will run the following cell to guarantee compatibility between Python 2 and 3."
   ]
  },
  {
   "cell_type": "code",
   "execution_count": null,
   "metadata": {
    "collapsed": true
   },
   "outputs": [],
   "source": [
    "from __future__ import print_function, division\n",
    "from six.moves import range\n",
    "\n",
    "%matplotlib inline"
   ]
  },
  {
   "cell_type": "markdown",
   "metadata": {},
   "source": [
    "# Setting up the Problem"
   ]
  },
  {
   "cell_type": "markdown",
   "metadata": {},
   "source": [
    "Measuring distances in astronomy is Really Hard. In general, there are two ways that are most commonly used:\n",
    "- **Standard candles**: These are objects whose luminosity $L$ we think we know. We can then derive the distance to these objects by measuring the observed flux $F$ via:\n",
    "$$ F = \\frac{L}{4\\pi d_L^2} ~\\Rightarrow~ d_L = \\sqrt{\\frac{L}{4\\pi F}} $$\n",
    "- **Standard rulers**: These are objects whose intrinsic size $r$ (width, radius, etc.) we think we know. We can then derive the distance to these objects by measuring their observed angular size $\\theta$ via:\n",
    "$$ \\tan \\theta \\approx \\theta = \\frac{r}{d_A} ~\\Rightarrow~ d_A = \\frac{r}{\\theta} $$\n",
    "\n",
    "We will be focusing on the first case using [**Type Ia Supernovae**](https://en.wikipedia.org/wiki/Type_Ia_supernova). These are explosions whose maximum brightness we think we know to pretty good accuracy."
   ]
  },
  {
   "cell_type": "markdown",
   "metadata": {},
   "source": [
    "While the above formulae work assuming a static and unchanging universe, **they no longer hold for a universe that is expanding**. In particular, they are sensitive to the expansion history of the Universe, which is a function of the fraction of the energy density today composed of matter $\\Omega_{m,0}$, radiation $\\Omega_{r,0}$, and dark energy $\\Omega_{\\Lambda,0}$. For example, $\\Omega_{m,0}=0.5$ means 50% of the energy density of the universe today is matter, while $\\Omega_{\\Lambda,0}=0.3$ would mean 30% of the energy density today is dark energy. \n",
    "\n",
    "*Note that these can add up to be greater than or less than one. The \"extra\" (positive or negative) energy curves the spacetime of the entire universe.*"
   ]
  },
  {
   "cell_type": "markdown",
   "metadata": {},
   "source": [
    "This changes our formula a little bit so that we instead have:\n",
    "\n",
    "$$ d_L(t_{\\rm lookback} \\,|\\, \\Omega_{m,0}, \\Omega_{r,0}, \\Omega_{\\Lambda,0}) $$\n",
    "\n",
    "where the bar $|$ means \"conditioned on\" (with those parameters given/fixed/known) and $t_{\\rm lookback}$ is the time [\"looking back into the past\"](http://astronomy.swin.edu.au/cosmos/L/Lookback+Time)."
   ]
  },
  {
   "cell_type": "markdown",
   "metadata": {},
   "source": [
    "**While this might look fancy, it just means that given the energy density of matter, radiation, and dark energy known today, we can \"wind back the clock\" and predict how far light has traveled from $t_{\\rm lookback}$ to today, taking into account the expansion of the universe.**"
   ]
  },
  {
   "cell_type": "markdown",
   "metadata": {},
   "source": [
    "Unfortunately, we don't know how old the universe is when we observe something. We can, however, measure the observed [**redshift**](https://en.wikipedia.org/wiki/Redshift) $z$ due to the expansion of the universe. And, fortunately for us, it turns out that there is a relationship between redshift and lookback time:\n",
    "\n",
    "$$ t_{\\rm lookback}(z \\,|\\, \\Omega_{m,0}, \\Omega_{r,0}, \\Omega_{\\Lambda,0}) $$\n",
    "\n",
    "Substituting in then allows us to write down a relationship between the observed flux $F$ and the luminosity distance $d_L$ given that we know the intrinsic luminosity $L$:\n",
    "\n",
    "$$ \\boxed{ F(z \\,|\\, \\Omega_{m,0}, \\Omega_{\\Lambda,0}) = \\frac{L}{4\\pi d_L^2(z \\,|\\, \\Omega_{m,0}, \\Omega_{\\Lambda,0})} } $$\n",
    "\n",
    "where we have ignored the dependence on $\\Omega_{r,0}$ because it has a negligible impact on our results."
   ]
  },
  {
   "cell_type": "markdown",
   "metadata": {},
   "source": [
    "I've defined a function to compute $d_L$ below. It runs using a \"cosmology calculator\" that solves a couple numerical integrals based on the provided cosmological parameters."
   ]
  },
  {
   "cell_type": "code",
   "execution_count": null,
   "metadata": {
    "collapsed": true
   },
   "outputs": [],
   "source": [
    "# function to compute the luminosity distance.\n",
    "def d_L(zs, Omega_m=0.3, Omega_L=0.7, \n",
    "        Omega_r=0.0, H0=100., N=1000, zgrid=None):\n",
    "    \"\"\"\n",
    "    Compute luminosity distance. See `cosmocalc` \n",
    "    for information on the other parameters.\n",
    "\n",
    "    Parameters\n",
    "    ----------\n",
    "    zs : array\n",
    "        Redshift grid.\n",
    "\n",
    "    zgrid : array, optional\n",
    "        The redshift grid used to compute the\n",
    "        baseline relation (which is subsequently interpolated).\n",
    "        Default is `arange(0, 2.5+1e-5, 0.02)`.\n",
    "\n",
    "    Returns\n",
    "    -------\n",
    "    DL_Mpc : array\n",
    "        Luminosity distance in Mpc.\n",
    "\n",
    "    \"\"\"\n",
    "    \n",
    "    if zgrid is None:  # define our default grid if none is provided\n",
    "        zgrid = np.arange(0, 2.5+1e-5, 0.02)\n",
    "        \n",
    "    d_l = np.array([cosmocalc(z, H0=H0, N=N,\n",
    "                             Omega_m=Omega_m, \n",
    "                             Omega_L=Omega_L,\n",
    "                             Omega_r=Omega_r)[3]  # compute d_L\n",
    "                 for z in zgrid])\n",
    "    \n",
    "    return np.interp(zs, zgrid, d_l)  # interpolate results along `zgrid`\n",
    "\n",
    "# Define a very simple cosmology calculator.\n",
    "def cosmocalc(z, Omega_m=0.3, Omega_L=0.7, \n",
    "              Omega_r=0.0, H0=70., N=1000):\n",
    "    \"\"\"\n",
    "    Compute cosmological quantities.\n",
    "\n",
    "    Parameters\n",
    "    ----------\n",
    "    z : array\n",
    "        Redshift.\n",
    "\n",
    "    Omega_m : float, optional\n",
    "        Matter density today (in units of the critical density).\n",
    "        Default `0.3`.\n",
    "\n",
    "    Omega_L : float, optional\n",
    "        Dark energy density today (in units of the critical density).\n",
    "        Default `0.7`.\n",
    "\n",
    "    Omega_K : float, optional\n",
    "        Curvature energy density today (in units of the \n",
    "        critical density). Default `0.0`.\n",
    "\n",
    "    Omega_r : float, optional\n",
    "        Radiation energy density today (in units of the \n",
    "        critical density). Default `0.0`.\n",
    "        \n",
    "    H0 : float, optional\n",
    "        Hubble constant today (`z=0`). Default is `70.`.\n",
    "\n",
    "    N : int, optional\n",
    "        The number of points used in the integral. \n",
    "        Default is `10000`.\n",
    "\n",
    "    Returns\n",
    "    -------\n",
    "    zage_Gyr : float\n",
    "        Age at z.\n",
    "\n",
    "    DCMR_Mpc : float\n",
    "        Comoving distance in Mpc.\n",
    "\n",
    "    DA_Mpc : float\n",
    "        Angular diameter distance in Mpc.\n",
    "\n",
    "    DL_Mpc : float\n",
    "        Luminosity distance in Mpc.\n",
    "\n",
    "    V_Gpc : float\n",
    "        Comoving volume in Gpc^3.\n",
    "\n",
    "    \"\"\"\n",
    "\n",
    "    Omega_K = 1. - Omega_m - Omega_r - Omega_L\n",
    "\n",
    "    # Initialize constants.\n",
    "    c = 299792.458  # velocity of light in km/sec\n",
    "    Tyr = 977.8  # conversion from 1/H to Gyr\n",
    "    h = H0/100.  # normalized H0\n",
    "    az = 1.0 / (1. + z)  # scale factor at redshift z\n",
    "\n",
    "    # Compute age.\n",
    "    age = 0.\n",
    "    for i in range(N):\n",
    "        a = az * (i + 0.5) / N\n",
    "        adot = np.sqrt(Omega_K + (Omega_m / a) + (Omega_r / a**2)\n",
    "                       + (Omega_L * a**2))\n",
    "        age = age + 1. / adot\n",
    "    zage = az * age / N\n",
    "    zage_Gyr = (Tyr/H0) * zage\n",
    "\n",
    "    \n",
    "    # Compute comoving radial distance.\n",
    "    DTT = 0.0\n",
    "    DCMR = 0.0\n",
    "    for i in range(N):\n",
    "        a = az + (1 - az) * (i + 0.5) / N\n",
    "        adot = np.sqrt(Omega_K + (Omega_m / a) + (Omega_r / a**2)\n",
    "                       + (Omega_L * a**2))\n",
    "        DTT = DTT + 1. / adot\n",
    "        DCMR = DCMR + 1. / (a * adot)\n",
    "    DTT = (1. - az) * DTT / N\n",
    "    DCMR = (1. - az) * DCMR / N\n",
    "\n",
    "    # Compute/convert quantities.\n",
    "    age = DTT + zage  # age [1/H]\n",
    "    age_Gyr = (Tyr / H0) * age  # age [Gyr]\n",
    "    DTT_Gyr = (Tyr / H0) * DTT  # travel time [Gyr]\n",
    "    DCMR_Gyr = (Tyr / H0) * DCMR  # comoving R [Glyr]\n",
    "    DCMR_Mpc = (c / H0) * DCMR  # comoving R [Mpc]\n",
    "\n",
    "    # Compute tangential quantities.\n",
    "    ratio = 1.00\n",
    "    x = np.sqrt(abs(Omega_K)) * DCMR\n",
    "    if x > 0.1:\n",
    "        if Omega_K > 0:\n",
    "            ratio =  0.5 * (np.exp(x) - np.exp(-x)) / x\n",
    "        else:\n",
    "            ratio = np.sin(x) / x\n",
    "    else:\n",
    "        y = x**2\n",
    "        if Omega_K < 0:\n",
    "            y = -y\n",
    "        ratio = 1. + y / 6. + y**2 / 120.\n",
    "\n",
    "    # Compute/convert quantities.\n",
    "    DCMT = ratio * DCMR  # comoving T [1/H]\n",
    "    DA = az * DCMT  # angular diameter distance [1/H]\n",
    "    DA_Mpc = (c / H0) * DA  # DA [Mpc]\n",
    "    kpc_DA = DA_Mpc / 206.264806  # DA [Mpc / per arcsec]\n",
    "    DA_Gyr = (Tyr / H0) * DA  # DA [Glyr]\n",
    "    DL = DA / (az * az)  # luminosity distance [1/H]\n",
    "    DL_Mpc = (c / H0) * DL  # DL [Mpc]\n",
    "    DL_Gyr = (Tyr / H0) * DL  # DL [Glyr]\n",
    "\n",
    "    # Compute comoving volume.\n",
    "    ratio = 1.00\n",
    "    x = np.sqrt(abs(Omega_K)) * DCMR\n",
    "    if x > 0.1:\n",
    "        if Omega_K > 0:\n",
    "            ratio = (0.125 * (np.exp(2. * x) - np.exp(-2. * x))\n",
    "                     - x / 2.) / (x**3 / 3.)\n",
    "        else:\n",
    "            ratio = (x / 2. - np.sin(2. * x) / 4.) / (x**3 / 3.)\n",
    "    else:\n",
    "        y = x**2\n",
    "        if Omega_K < 0:\n",
    "            y = -y\n",
    "        ratio = 1. + y / 5. + (2. / 105.) * y**2\n",
    "    VCM = ratio * DCMR**3 / 3  # comoving volume [1/H]\n",
    "    V_Gpc = 4. * np.pi * (1e-3 * c / H0)**3 * VCM  # convert to Gpc\n",
    "\n",
    "    return zage_Gyr, DCMR_Mpc, DA_Mpc, DL_Mpc, V_Gpc"
   ]
  },
  {
   "cell_type": "markdown",
   "metadata": {},
   "source": [
    "Note that these functions have a bunch of **arguments** that are optional. If you do not provide them, they will be fixed to the pre-specified default."
   ]
  },
  {
   "cell_type": "markdown",
   "metadata": {
    "collapsed": true
   },
   "source": [
    "# Part 1: Luminosity Distance and Magnitude"
   ]
  },
  {
   "cell_type": "markdown",
   "metadata": {},
   "source": [
    "Let's first gain some familiarity with the function above. \n",
    "\n",
    "**Define a grid in redshift from 0 to 1.5 with 1000 points. Then plot the predicted luminosity distance as a function of redshift.**\n",
    "\n",
    "Note that all distances are in units of Megaparsecs (Mpc)."
   ]
  },
  {
   "cell_type": "code",
   "execution_count": null,
   "metadata": {
    "collapsed": true
   },
   "outputs": [],
   "source": [
    "# define redshift grid\n",
    "zgrid = ...\n",
    "\n",
    "# compute luminosity distances\n",
    "dists = d_L(...)\n",
    "\n",
    "# plot results\n",
    "# remember to label your axes!\n",
    "plt.plot(...)"
   ]
  },
  {
   "cell_type": "markdown",
   "metadata": {},
   "source": [
    "**Now, compute, plot, and _label_ the luminosity distance $d_L(z; \\Omega_{m,0}, \\Omega_\\Lambda)$ for different combinations of $(\\Omega_{m,0}, \\Omega_\\Lambda)$:**\n",
    "1. $(0.3, 0.0)$, \n",
    "2. $(0.3, 0.4)$, \n",
    "3. $(0.3, 0.7)$, \n",
    "4. $(0.5, 0.7)$,\n",
    "5. $(0.8, 0.8)$."
   ]
  },
  {
   "cell_type": "code",
   "execution_count": null,
   "metadata": {
    "collapsed": true
   },
   "outputs": [],
   "source": [
    "# compute dists for each combination (1->5)\n",
    "...\n",
    "\n",
    "# plot results\n",
    "# remember to label your axes!\n",
    "..."
   ]
  },
  {
   "cell_type": "markdown",
   "metadata": {},
   "source": [
    "As discussed above, what we measure is not actually the luminosity distance directly, but rather a flux $F$. In general, most astronomical measurements are not even reported in flux, but rather in **magnitudes**, a logarithmic unit of brightness. Assuming we know the intrinsic brightness of a source, we can convert from distance $d_L$ to magnitude $m$ using:\n",
    "\n",
    "$$ m = M + 5 (\\log d + 5) $$\n",
    "\n",
    "where $M$ is the **\"absolute magnitude\"**, which is just another way of specifying the luminosity. For Type Ia supernovae, $M=-19.5$."
   ]
  },
  {
   "cell_type": "markdown",
   "metadata": {},
   "source": [
    "**Convert the 5 $d_L(z \\,|\\, \\Omega_{m,0}, \\Omega_{\\Lambda,0})$ predictions over `zgrid` you computed above to the equivalent magnitude predictions using the function below. Then plot and label your results.**"
   ]
  },
  {
   "cell_type": "code",
   "execution_count": null,
   "metadata": {
    "collapsed": true
   },
   "outputs": [],
   "source": [
    "def mag(d, M=-19.5):\n",
    "    \"\"\"\n",
    "    Convert distance(s) `d` into magnitude(s) given \n",
    "    absolute magnitude `M`. Assumes `d` is in units of Mpc.\n",
    "    \n",
    "    \"\"\"\n",
    "    \n",
    "    return ..."
   ]
  },
  {
   "cell_type": "code",
   "execution_count": null,
   "metadata": {
    "collapsed": true,
    "scrolled": false
   },
   "outputs": [],
   "source": [
    "# convert from dists to mags\n",
    "...\n",
    "\n",
    "# plot results\n",
    "# remember to label your axes!"
   ]
  },
  {
   "cell_type": "markdown",
   "metadata": {},
   "source": [
    "# Part 2: Inspecting Data"
   ]
  },
  {
   "cell_type": "markdown",
   "metadata": {},
   "source": [
    "We now want to fit the luminosity distance and magnitude predictions to some Type Ia Supernovae data. This is stored under `sne1a_data.txt` and contains the redshifts, observed magnitudes, and magnitude errors from 50 (mock) supernovae observations."
   ]
  },
  {
   "cell_type": "markdown",
   "metadata": {},
   "source": [
    "**Using whatever methods you prefer, read in the supernovae data. Then, plot:**\n",
    "1. **a histogram of the redshift distribution of our sample with redshift bins of width $\\Delta z = 0.2$ and**\n",
    "2. **the observed magnitudes as a function of redshift.**"
   ]
  },
  {
   "cell_type": "code",
   "execution_count": null,
   "metadata": {
    "collapsed": true
   },
   "outputs": [],
   "source": [
    "# read in data\n",
    "z_spec, mag_spec, magerr_spec = ...\n",
    "\n",
    "# plot histogram of redshifts\n",
    "...\n",
    "\n",
    "# plot magnitudes vs redshifts\n",
    "..."
   ]
  },
  {
   "cell_type": "markdown",
   "metadata": {},
   "source": [
    "# Part 3: Chi-Square"
   ]
  },
  {
   "cell_type": "markdown",
   "metadata": {},
   "source": [
    "We now want to do something similar to the analysis we did in our linear regression exercises: find out how \"good\" our models fit the data. We can incorporate our measurement errors using the **$\\chi^2$ function**:\n",
    "\n",
    "$$ \\chi^2 = \\sum_i \\left( \\frac{y_{\\rm pred} - y_{\\rm obs}}{\\sigma_{\\rm obs}} \\right)^2  $$\n",
    "\n",
    "This should look really similar to our previous **loss function**, except we just normalize our residuals by the observed errors."
   ]
  },
  {
   "cell_type": "markdown",
   "metadata": {},
   "source": [
    "**Finish defining the `chi2` function below. Then, compute the $\\chi^2$ values for each of the 5 $(\\Omega_{m,0}, \\Omega_{\\Lambda,0})$ combinations we computed above and print out the results.**"
   ]
  },
  {
   "cell_type": "code",
   "execution_count": null,
   "metadata": {
    "collapsed": true
   },
   "outputs": [],
   "source": [
    "# Define our chi2 function.\n",
    "def chi2(pred, obs, err):\n",
    "    \"\"\"\n",
    "    Compute the chi2 between the predictions `pred`\n",
    "    and the observations `obs` given the observed errors `err`.\n",
    "    \n",
    "    \"\"\"\n",
    "    \n",
    "    return ..."
   ]
  },
  {
   "cell_type": "code",
   "execution_count": null,
   "metadata": {
    "collapsed": true
   },
   "outputs": [],
   "source": [
    "# compute chi2 for each of the combinations\n",
    "# should follow something like the example shown below\n",
    "for Om, OL in stuff:\n",
    "    dpred = d_L(z_spec, ...)\n",
    "    mpred = mag(...)\n",
    "    chisquare = chi2(...)\n",
    "    print('Omega_m, Omega_L = {0}, {1}'.format(Om, OL),\n",
    "          '; chi2 = ', chisquare)"
   ]
  },
  {
   "cell_type": "markdown",
   "metadata": {},
   "source": [
    "# Part 4: Fitting the Data"
   ]
  },
  {
   "cell_type": "markdown",
   "metadata": {},
   "source": [
    "We now want to fit the data. We will do this in two parts:"
   ]
  },
  {
   "cell_type": "markdown",
   "metadata": {},
   "source": [
    "## Minimizing $\\chi^2$"
   ]
  },
  {
   "cell_type": "markdown",
   "metadata": {},
   "source": [
    "First, we want to run an analysis similar to that from our previous linear regression exercise where we attempt to find the $(\\Omega_{m,0}, \\Omega_{\\Lambda,0}$ values where our $\\chi^2$ is smallest. I've defined a modified function below that matches the format needed to pass into `scipy.optimize.minimize`."
   ]
  },
  {
   "cell_type": "code",
   "execution_count": null,
   "metadata": {
    "collapsed": true
   },
   "outputs": [],
   "source": [
    "# Define our modified function to match the format for `minimize`.\n",
    "def calc_chi2(theta):\n",
    "    Om, OL = theta\n",
    "    dpred = d_L(z_spec, Omega_m=Om, Omega_L=OL)\n",
    "    mpred = mag(dpred)\n",
    "    chisquare = chi2(mpred, mag_spec, magerr_spec)\n",
    "    \n",
    "    return chisquare"
   ]
  },
  {
   "cell_type": "markdown",
   "metadata": {},
   "source": [
    "**Using `scipy.optimize.minimize`, find the best-fit combination of $(\\Omega_{m,0}, \\Omega_{\\Lambda,0})$ using the `loss` function defined above starting from $(0.5, 0.5)$ and subject to the constraints $0 < \\Omega_{m,0} < 1$ and $0 < \\Omega_{\\Lambda,0} < 1$.**"
   ]
  },
  {
   "cell_type": "code",
   "execution_count": null,
   "metadata": {
    "collapsed": true
   },
   "outputs": [],
   "source": [
    "# Find the best fit.\n",
    "x0 = ...  # initial guess\n",
    "bounds = ...  # bounds for guesses (see documentation)\n",
    "results = minimize(calc_chi2, x0, bounds=bounds)  # minimize!\n",
    "theta_best = results['x']  # get best fit\n",
    "theta_cov = results['hess_inv'].todense()  # get covariance matrix\n",
    "\n",
    "# print results\n",
    "print(theta_best)\n",
    "print(theta_cov)"
   ]
  },
  {
   "cell_type": "markdown",
   "metadata": {},
   "source": [
    "**Plot a 2-D histogram of 10000 draws from the resulting Multivariate Normal distribution using `numpy.random.multivariate_normal`. Limit the x and y axes to be from 0 to 1.**"
   ]
  },
  {
   "cell_type": "code",
   "execution_count": null,
   "metadata": {
    "collapsed": true
   },
   "outputs": [],
   "source": [
    "# plot 2-D histogram\n",
    "# remember to label your axes!"
   ]
  },
  {
   "cell_type": "markdown",
   "metadata": {},
   "source": [
    "## Brute Force"
   ]
  },
  {
   "cell_type": "markdown",
   "metadata": {},
   "source": [
    "Alternately, we can just **brute force** the problem by computing $\\chi^2$ for tons of possible parameter combinations $(\\Omega_{m,0}, \\Omega_{\\Lambda,0})$, and then plot how our $\\chi^2$ changes as $\\Omega_{m,0}$ and $\\Omega_{\\Lambda,0}$ change."
   ]
  },
  {
   "cell_type": "markdown",
   "metadata": {},
   "source": [
    "**Based on the code below, fill in each element of the `chi2_arr` with the corresponding $\\chi^2$ value.**"
   ]
  },
  {
   "cell_type": "code",
   "execution_count": null,
   "metadata": {
    "collapsed": true
   },
   "outputs": [],
   "source": [
    "# define our grid\n",
    "Omega_m = arange(0, 1.01, 0.04)  # grid in Omega_m\n",
    "Omega_L = arange(0, 1.01, 0.04)  # grid in Omega_L\n",
    "\n",
    "# do our brute-force grid search\n",
    "chi2_arr = np.zeros((len(Omega_m), len(Omega_L)))\n",
    "for ...:  # loop over Omega_m\n",
    "    for ...:  # loop over Omega_L\n",
    "        # compute chi2\n",
    "        chisquare = ...\n",
    "        \n",
    "        # fill  in array\n",
    "        chi2_arr[i, j] = chisquare\n",
    "        \n",
    "        # Print progress.\n",
    "        sys.stderr.write('\\r Omega_m = {0}, Omega_L = {1}     '\n",
    "                         .format(Om, OL))"
   ]
  },
  {
   "cell_type": "markdown",
   "metadata": {},
   "source": [
    "Just like with our galaxy example, we can convert each of our $\\chi^2$ values to a corresponding **weight** that we assign each combination of parameters. This is computed via\n",
    "\n",
    "$$ w(\\chi^2) = e^{-\\chi^2/2} $$"
   ]
  },
  {
   "cell_type": "markdown",
   "metadata": {},
   "source": [
    "**Using the formula above, convert the $\\chi^2$ values we just computed to a set of weights $w$. Then, plot the resulting 2-D weighted array using `plt.imshow` based on the code below. Remember to set `origin` to the right location and `extent` to ensure you get the right bounds.**"
   ]
  },
  {
   "cell_type": "code",
   "execution_count": null,
   "metadata": {
    "collapsed": true
   },
   "outputs": [],
   "source": [
    "# convert chi2 to weights\n",
    "weights = ...\n",
    "\n",
    "# plot results\n",
    "# remember to label your axes!\n",
    "plt.imshow(weights.T, origin=..., extent=...)"
   ]
  },
  {
   "cell_type": "markdown",
   "metadata": {},
   "source": [
    "# Summary"
   ]
  },
  {
   "cell_type": "markdown",
   "metadata": {},
   "source": [
    "Using 50 observations of Type Ia Supernovae, we have placed constraints on the fraction of the energy density of the universe today is composed of matter $\\Omega_{m,0}$ and dark energy $\\Omega_{\\Lambda,0}$. Our results show that our universe is very inconsistent with being mostly matter and is mainly comprised of dark energy!"
   ]
  },
  {
   "cell_type": "markdown",
   "metadata": {},
   "source": [
    "# Solutions"
   ]
  },
  {
   "cell_type": "markdown",
   "metadata": {},
   "source": [
    "I've included snapshots of what your plots/results should look like below, in case you want to see what your final answers should (sort of) look like."
   ]
  },
  {
   "cell_type": "markdown",
   "metadata": {},
   "source": [
    "## Part 1"
   ]
  },
  {
   "cell_type": "markdown",
   "metadata": {},
   "source": [
    "Your final results should look something like the plots below.\n",
    "\n",
    "<img src=\"dl_relations.png\">\n",
    "\n",
    "So we can see that the differences between each of these cosmologies is not that large!"
   ]
  },
  {
   "cell_type": "markdown",
   "metadata": {},
   "source": [
    "## Part 2"
   ]
  },
  {
   "cell_type": "markdown",
   "metadata": {},
   "source": [
    "Your final plots should look something like the those shown below.\n",
    "\n",
    "<img src=\"supernovae.png\">"
   ]
  },
  {
   "cell_type": "markdown",
   "metadata": {},
   "source": [
    "## Part 3"
   ]
  },
  {
   "cell_type": "markdown",
   "metadata": {},
   "source": [
    "Your results should look the same as the results below.\n",
    "\n",
    "<img src=\"chi2.png\">"
   ]
  },
  {
   "cell_type": "markdown",
   "metadata": {},
   "source": [
    "## Part 4"
   ]
  },
  {
   "cell_type": "markdown",
   "metadata": {},
   "source": [
    "The errors around the best-fit solution look like:\n",
    "\n",
    "<img src=\"bestfit.png\">"
   ]
  },
  {
   "cell_type": "markdown",
   "metadata": {},
   "source": [
    "The results we get from our brute-force grid look something like:\n",
    "\n",
    "<img src=\"bruteforce.png\">"
   ]
  },
  {
   "cell_type": "markdown",
   "metadata": {},
   "source": [
    "Close, but not identical."
   ]
  }
 ],
 "metadata": {
  "anaconda-cloud": {},
  "kernel_info": {
   "name": "python2"
  },
  "kernelspec": {
   "display_name": "Python 2",
   "language": "python",
   "name": "python2"
  },
  "language_info": {
   "codemirror_mode": {
    "name": "ipython",
    "version": 2
   },
   "file_extension": ".py",
   "mimetype": "text/x-python",
   "name": "python",
   "nbconvert_exporter": "python",
   "pygments_lexer": "ipython2",
   "version": "2.7.13"
  },
  "nteract": {
   "version": "0.8.4"
  }
 },
 "nbformat": 4,
 "nbformat_minor": 1
}
