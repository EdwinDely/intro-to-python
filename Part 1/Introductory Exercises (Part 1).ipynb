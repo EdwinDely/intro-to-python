{
 "cells": [
  {
   "cell_type": "markdown",
   "metadata": {},
   "source": [
    "# Introductory Exercises"
   ]
  },
  {
   "cell_type": "markdown",
   "metadata": {},
   "source": [
    "These exercises are meant to supplement the lecture notes based on Jack VanderPlas's [excellent book](https://github.com/jakevdp/WhirlwindTourOfPython) as well as material from http://introtopython.org."
   ]
  },
  {
   "cell_type": "markdown",
   "metadata": {},
   "source": [
    "You are encouraged to modify your local version of this iPython notebook. Please add in any additional comments or advice you found helpful and definitely try to experiment with new code!"
   ]
  },
  {
   "cell_type": "markdown",
   "metadata": {},
   "source": [
    "## Preamble"
   ]
  },
  {
   "cell_type": "markdown",
   "metadata": {},
   "source": [
    "Before we begin, we need to run this code block to ensure the code is compatible between Python 2 and 3."
   ]
  },
  {
   "cell_type": "code",
   "execution_count": 1,
   "metadata": {
    "collapsed": true
   },
   "outputs": [],
   "source": [
    "# Ensures compatibility between Python 2 and 3.\n",
    "from __future__ import print_function, division\n",
    "from __builtin__ import range"
   ]
  },
  {
   "cell_type": "markdown",
   "metadata": {},
   "source": [
    "## Hello World"
   ]
  },
  {
   "cell_type": "markdown",
   "metadata": {},
   "source": [
    "Let's quickly go through some basics of variable assignment."
   ]
  },
  {
   "cell_type": "code",
   "execution_count": 2,
   "metadata": {
    "collapsed": false
   },
   "outputs": [
    {
     "name": "stdout",
     "output_type": "stream",
     "text": [
      "Hello Python world!\n"
     ]
    }
   ],
   "source": [
    "print('Hello Python world!')"
   ]
  },
  {
   "cell_type": "markdown",
   "metadata": {},
   "source": [
    "Try to get the following code to print the same message as the one above."
   ]
  },
  {
   "cell_type": "code",
   "execution_count": 3,
   "metadata": {
    "collapsed": false
   },
   "outputs": [
    {
     "name": "stdout",
     "output_type": "stream",
     "text": [
      "Hello Python world!\n"
     ]
    }
   ],
   "source": [
    "...\n",
    "print(message)"
   ]
  },
  {
   "cell_type": "markdown",
   "metadata": {},
   "source": [
    "## Strings"
   ]
  },
  {
   "cell_type": "code",
   "execution_count": 4,
   "metadata": {
    "collapsed": true
   },
   "outputs": [],
   "source": [
    "# Example of two strings.\n",
    "my_string = \"This is a double-quoted string.\"\n",
    "your_string = 'This is a single-quoted string.'\n",
    "\n",
    "# Example of types.\n",
    "quote = \"Josh once asked, 'Is this distinction useful?'\"\n",
    "followup = 'What do you think?'"
   ]
  },
  {
   "cell_type": "markdown",
   "metadata": {},
   "source": [
    "We now want to manipulate these strings. A few exercises are below. Take as much time as you need; you are not expected to be able to complete them all."
   ]
  },
  {
   "cell_type": "code",
   "execution_count": 5,
   "metadata": {
    "collapsed": false
   },
   "outputs": [
    {
     "name": "stdout",
     "output_type": "stream",
     "text": [
      "Josh once asked, 'Is this distinction useful?' What do you think?\n",
      "Josh once asked, 'Is this distinction useful?' What do you think?\n"
     ]
    }
   ],
   "source": [
    "# Combine the two lines (`quote`, `followup`) into one string with appropriate spacing.\n",
    "combined_quote = ...\n",
    "print(quote, followup)  # printing two strings\n",
    "print(combined_quote)  # print the combined string"
   ]
  },
  {
   "cell_type": "code",
   "execution_count": 6,
   "metadata": {
    "collapsed": false
   },
   "outputs": [
    {
     "name": "stdout",
     "output_type": "stream",
     "text": [
      "True\n"
     ]
    }
   ],
   "source": [
    "# Check whether the two strings are identical.\n",
    "s1, s2 = \"Test.\", 'Test.'\n",
    "same = ...\n",
    "print(same)"
   ]
  },
  {
   "cell_type": "code",
   "execution_count": 7,
   "metadata": {
    "collapsed": false
   },
   "outputs": [
    {
     "name": "stdout",
     "output_type": "stream",
     "text": [
      "['This', 'is', 'a', 'double-quoted', 'string.']\n"
     ]
    }
   ],
   "source": [
    "# Split `my_string` into a separate string for each word.\n",
    "collection_of_strings = ...\n",
    "print(collection_of_strings)"
   ]
  },
  {
   "cell_type": "code",
   "execution_count": 8,
   "metadata": {
    "collapsed": false
   },
   "outputs": [
    {
     "name": "stdout",
     "output_type": "stream",
     "text": [
      "True\n"
     ]
    }
   ],
   "source": [
    "# Check whether the *letter* `a` is in `quote`.\n",
    "a_lettercheck = ...\n",
    "print(a_lettercheck)"
   ]
  },
  {
   "cell_type": "code",
   "execution_count": 9,
   "metadata": {
    "collapsed": false
   },
   "outputs": [
    {
     "name": "stdout",
     "output_type": "stream",
     "text": [
      "False\n"
     ]
    }
   ],
   "source": [
    "# Check whether the *word* `a` is in `quote`.\n",
    "a_wordcheck = ...\n",
    "print(a_wordcheck)"
   ]
  },
  {
   "cell_type": "markdown",
   "metadata": {},
   "source": [
    "## Numbers"
   ]
  },
  {
   "cell_type": "markdown",
   "metadata": {},
   "source": [
    "While you can define some variables explicitly, Python defines many of them implicitly and can change them when doing math. This mostly matters when working with integers and floats."
   ]
  },
  {
   "cell_type": "code",
   "execution_count": 10,
   "metadata": {
    "collapsed": false
   },
   "outputs": [
    {
     "name": "stdout",
     "output_type": "stream",
     "text": [
      "a = 3\n",
      "b = 2\n",
      "c = 5.0\n"
     ]
    }
   ],
   "source": [
    "# Define two variables.\n",
    "a, b, c = 3, 2, 5.\n",
    "\n",
    "print('a = {0}'.format(a))\n",
    "print('b =', b)\n",
    "print('c', '=', c)"
   ]
  },
  {
   "cell_type": "markdown",
   "metadata": {},
   "source": [
    "Let's see this in action below."
   ]
  },
  {
   "cell_type": "code",
   "execution_count": 11,
   "metadata": {
    "collapsed": false
   },
   "outputs": [
    {
     "name": "stdout",
     "output_type": "stream",
     "text": [
      "5 <type 'int'>\n",
      "2.0 <type 'float'>\n",
      "6 <type 'int'>\n",
      "1.5 <type 'float'>\n",
      "25.0 <type 'float'>\n"
     ]
    }
   ],
   "source": [
    "# Addition.\n",
    "x = a + b\n",
    "print(x, type(x))\n",
    "\n",
    "# Subtraction.\n",
    "x = c - a\n",
    "print(x, type(x))\n",
    "\n",
    "# Multiplication.\n",
    "x = b * a\n",
    "print(x, type(x))\n",
    "\n",
    "# Division.\n",
    "x = a / b\n",
    "print(x, type(x))\n",
    "\n",
    "# Exponentiation.\n",
    "x = c ** b\n",
    "print(x, type(x))"
   ]
  },
  {
   "cell_type": "code",
   "execution_count": 12,
   "metadata": {
    "collapsed": false
   },
   "outputs": [
    {
     "name": "stdout",
     "output_type": "stream",
     "text": [
      "0 <type 'int'>\n",
      "1.0 <type 'float'>\n"
     ]
    }
   ],
   "source": [
    "# ???\n",
    "x = b // a\n",
    "print(x, type(x))\n",
    "\n",
    "x = c // a\n",
    "print(x, type(x))"
   ]
  },
  {
   "cell_type": "markdown",
   "metadata": {},
   "source": [
    "This type of distinction matters because roundoff errors can be an issue. These are a humongous pain but can be dealt with once you know what to watch out for."
   ]
  },
  {
   "cell_type": "code",
   "execution_count": 13,
   "metadata": {
    "collapsed": false
   },
   "outputs": [
    {
     "data": {
      "text/plain": [
       "(0.3, 0.30000000000000004, False)"
      ]
     },
     "execution_count": 13,
     "metadata": {},
     "output_type": "execute_result"
    }
   ],
   "source": [
    "f1, f2 = 0.3, 0.1 + 0.2\n",
    "f1, f2, f1 == f2  # leaving variables for auto-output"
   ]
  },
  {
   "cell_type": "markdown",
   "metadata": {},
   "source": [
    "Note that everything in Python is at some level an **object**. Our variables are no exception."
   ]
  },
  {
   "cell_type": "code",
   "execution_count": 14,
   "metadata": {
    "collapsed": false
   },
   "outputs": [
    {
     "data": {
      "text/plain": [
       "((5404319552844595L, 18014398509481984L),\n",
       " (1351079888211149L, 4503599627370496L),\n",
       " (1, 2))"
      ]
     },
     "execution_count": 14,
     "metadata": {},
     "output_type": "execute_result"
    }
   ],
   "source": [
    "f1.as_integer_ratio(), f2.as_integer_ratio(), (0.5).as_integer_ratio()"
   ]
  },
  {
   "cell_type": "markdown",
   "metadata": {},
   "source": [
    "## Math"
   ]
  },
  {
   "cell_type": "markdown",
   "metadata": {},
   "source": [
    "Magnitudes are a pretty common unit in astronomy and are defined in terms of $m \\equiv -2.5 \\log(F)$ where $F$ is in units of flux density (energy/area/time/frequency).\n",
    "\n",
    "Compute $m$ given $F = b(a-1)^2 + c(a-1) + 5$. Note that not all math operations are included in Python by default."
   ]
  },
  {
   "cell_type": "code",
   "execution_count": 15,
   "metadata": {
    "collapsed": false
   },
   "outputs": [
    {
     "name": "stdout",
     "output_type": "stream",
     "text": [
      "-3.40431959004\n"
     ]
    }
   ],
   "source": [
    "# Compute magnitude given flux.\n",
    "F = ...\n",
    "m = ...\n",
    "print(m)"
   ]
  },
  {
   "cell_type": "markdown",
   "metadata": {},
   "source": [
    "## Lists"
   ]
  },
  {
   "cell_type": "markdown",
   "metadata": {},
   "source": [
    "We can keep track of many objects simultaneously by using **lists**."
   ]
  },
  {
   "cell_type": "code",
   "execution_count": 16,
   "metadata": {
    "collapsed": true
   },
   "outputs": [],
   "source": [
    "dogs = ['border collie', 'australian cattle dog', 'labrador retriever']"
   ]
  },
  {
   "cell_type": "markdown",
   "metadata": {},
   "source": [
    "Now let's print out an element of the list and capitalize it. We can figure out how to do this within the notebook by taking advantage of tab completion."
   ]
  },
  {
   "cell_type": "code",
   "execution_count": 17,
   "metadata": {
    "collapsed": false
   },
   "outputs": [
    {
     "name": "stdout",
     "output_type": "stream",
     "text": [
      "Border collie\n"
     ]
    }
   ],
   "source": [
    "# Access element.\n",
    "dog = dogs[0]\n",
    "\n",
    "# Print result.\n",
    "print(dog.)"
   ]
  },
  {
   "cell_type": "markdown",
   "metadata": {},
   "source": [
    "See if you can figure out how to find where `'australian cattle dog'` is located using just standard Python operators and built-in list functions."
   ]
  },
  {
   "cell_type": "code",
   "execution_count": 18,
   "metadata": {
    "collapsed": false
   },
   "outputs": [
    {
     "data": {
      "text/plain": [
       "1"
      ]
     },
     "execution_count": 18,
     "metadata": {},
     "output_type": "execute_result"
    }
   ],
   "source": [
    "# Searching list.\n",
    "dogs.index(...)"
   ]
  },
  {
   "cell_type": "markdown",
   "metadata": {},
   "source": [
    "As before, see if you can figure out how to append items to the end of a list or insert them in the middle of a list. Append `'poodle'` to the end of the list, then insert `'chihuahua'` after `'border collie'` *without* entering the position by hand."
   ]
  },
  {
   "cell_type": "code",
   "execution_count": 19,
   "metadata": {
    "collapsed": false
   },
   "outputs": [
    {
     "name": "stdout",
     "output_type": "stream",
     "text": [
      "['border collie', 'chihuahua', 'australian cattle dog', 'labrador retriever', 'poodle']\n"
     ]
    }
   ],
   "source": [
    "# Append.\n",
    "\n",
    "# Insert.\n",
    "\n",
    "print(dogs)"
   ]
  },
  {
   "cell_type": "markdown",
   "metadata": {},
   "source": [
    "Now change border collie to `'maltese'` and remove `'labrador retriever'` from the list."
   ]
  },
  {
   "cell_type": "code",
   "execution_count": 20,
   "metadata": {
    "collapsed": false
   },
   "outputs": [
    {
     "name": "stdout",
     "output_type": "stream",
     "text": [
      "['maltese', 'chihuahua', 'australian cattle dog', 'poodle']\n"
     ]
    }
   ],
   "source": [
    "# Remove element.\n",
    "dogs.remove(...)\n",
    "dogs[0] = '...'\n",
    "print(dogs)"
   ]
  },
  {
   "cell_type": "markdown",
   "metadata": {},
   "source": [
    "Finally, a hugely useful concept in Python is **slicing** objects, where we can return only relevant portions of an object without modifying the relevant object itself."
   ]
  },
  {
   "cell_type": "code",
   "execution_count": 21,
   "metadata": {
    "collapsed": false
   },
   "outputs": [
    {
     "name": "stdout",
     "output_type": "stream",
     "text": [
      "['chihuahua', 'australian cattle dog']\n",
      "['maltese', 'chihuahua', 'australian cattle dog', 'poodle']\n"
     ]
    }
   ],
   "source": [
    "# Slice an array\n",
    "print(dogs[1:3])\n",
    "print(dogs)"
   ]
  },
  {
   "cell_type": "markdown",
   "metadata": {},
   "source": [
    "## Tuples"
   ]
  },
  {
   "cell_type": "markdown",
   "metadata": {},
   "source": [
    "Like lists, **tuples** can keep track of many items at once. However, unlike lists, they're static and can't be changed after initialization."
   ]
  },
  {
   "cell_type": "code",
   "execution_count": 22,
   "metadata": {
    "collapsed": true
   },
   "outputs": [],
   "source": [
    "date = (6, 11, 2018)"
   ]
  },
  {
   "cell_type": "code",
   "execution_count": 23,
   "metadata": {
    "collapsed": false
   },
   "outputs": [],
   "source": [
    "# Check tomorrow's date."
   ]
  },
  {
   "cell_type": "markdown",
   "metadata": {},
   "source": [
    "Why might we want to use tuples instead of lists?"
   ]
  },
  {
   "cell_type": "markdown",
   "metadata": {},
   "source": [
    "## Dictionaries"
   ]
  },
  {
   "cell_type": "markdown",
   "metadata": {},
   "source": [
    "**Dictionaries** are extremely flexible mappings of *keys* to values, and form the basis of much of Python's internal implementation. They are again another alternative to lists."
   ]
  },
  {
   "cell_type": "code",
   "execution_count": 24,
   "metadata": {
    "collapsed": false
   },
   "outputs": [
    {
     "name": "stdout",
     "output_type": "stream",
     "text": [
      "2\n",
      "{'ninety': 90, 'three': 3, 'two': 2, 'one': 1}\n"
     ]
    }
   ],
   "source": [
    "# Initialize dictionary.\n",
    "numbers = {'one': 1, 'two': 2, 'three': 3}\n",
    "\n",
    "# Access a value using its key.\n",
    "print(numbers['two'])\n",
    "\n",
    "# Add a new element.\n",
    "numbers['ninety'] = 90\n",
    "print(numbers)"
   ]
  },
  {
   "cell_type": "markdown",
   "metadata": {},
   "source": [
    "Note that dictionaries do not maintain any sense of order for the input parameters. This is by design, since this lack of ordering allows dictionaries to be implemented very efficiently."
   ]
  },
  {
   "cell_type": "markdown",
   "metadata": {},
   "source": [
    "## Sets"
   ]
  },
  {
   "cell_type": "markdown",
   "metadata": {},
   "source": [
    "**Sets** contain unordered collections of unique items only. It is really fast to perform bulk quick checks but can be hard to search. They are most useful for union, intersection, difference, symmetric difference math operations, and others. Python's sets have all of these operations built-in, via methods or operators."
   ]
  },
  {
   "cell_type": "code",
   "execution_count": 25,
   "metadata": {
    "collapsed": false
   },
   "outputs": [
    {
     "name": "stdout",
     "output_type": "stream",
     "text": [
      "set([1, 2, 3, 5, 7, 9])\n",
      "set([3, 5, 7])\n",
      "set([2])\n"
     ]
    }
   ],
   "source": [
    "primes = {2, 3, 5, 7}\n",
    "odds = {1, 3, 5, 7, 9}\n",
    "\n",
    "# Union: items appearing in either\n",
    "print(primes.union(odds)) # equivalently with a method\n",
    "\n",
    "# Intersction\n",
    "{1, 2, 3, 5, 7, 9}\n",
    "print(primes.intersection(odds)) # equivalently with a method\n",
    "\n",
    "# difference: Items in primes but not in odds\n",
    "print(primes.difference(odds)) # equivalently with a method"
   ]
  },
  {
   "cell_type": "markdown",
   "metadata": {},
   "source": [
    "## Conditionals"
   ]
  },
  {
   "cell_type": "markdown",
   "metadata": {},
   "source": [
    "Python's conditional statements are pretty straightforrward."
   ]
  },
  {
   "cell_type": "code",
   "execution_count": 30,
   "metadata": {
    "collapsed": false
   },
   "outputs": [
    {
     "name": "stdout",
     "output_type": "stream",
     "text": [
      "-15 is negative\n"
     ]
    }
   ],
   "source": [
    "x = -15\n",
    "\n",
    "if x == 0:\n",
    "    print(x, \"is zero\")\n",
    "elif x > 0:\n",
    "    print(x, \"is positive\")\n",
    "elif x < 0:\n",
    "    print(x, \"is negative\")\n",
    "else:\n",
    "    print(x, \"is unlike anything I've ever seen...\")"
   ]
  },
  {
   "cell_type": "markdown",
   "metadata": {},
   "source": [
    "## Loops"
   ]
  },
  {
   "cell_type": "markdown",
   "metadata": {},
   "source": [
    "Python is able to work with any type of iterable, not just integers. This gives loops a lot more flexibility."
   ]
  },
  {
   "cell_type": "code",
   "execution_count": 26,
   "metadata": {
    "collapsed": false
   },
   "outputs": [
    {
     "name": "stdout",
     "output_type": "stream",
     "text": [
      "I like malteses.\n",
      "I like chihuahuas.\n",
      "I like australian cattle dogs.\n",
      "I like malteses.\n",
      "I like chihuahuas.\n",
      "I like australian cattle dogs.\n",
      "I like poodles.\n"
     ]
    }
   ],
   "source": [
    "# Traditional loop.\n",
    "for i in range(3):\n",
    "    print('I like ' + dogs[i] + 's.')\n",
    "\n",
    "# \"Pythonic\" loop.\n",
    "for dog in dogs:\n",
    "    print('I like ' + dog + 's.')"
   ]
  },
  {
   "cell_type": "markdown",
   "metadata": {},
   "source": [
    "This flexibility makes loops in Python incredibly powerful. As an example, see if you can get the loop below to run using some combination of (1) `range`, (2) `zip`, and (3) `enumerate`."
   ]
  },
  {
   "cell_type": "code",
   "execution_count": 27,
   "metadata": {
    "collapsed": false
   },
   "outputs": [
    {
     "name": "stdout",
     "output_type": "stream",
     "text": [
      "0 : maltese\n",
      "1 : chihuahua\n",
      "2 : australian cattle dog\n",
      "3 : poodle\n"
     ]
    }
   ],
   "source": [
    "for ... in ...:\n",
    "    print(counter, ':', dog)"
   ]
  },
  {
   "cell_type": "markdown",
   "metadata": {},
   "source": [
    "Alternately, we can use while loops to get things done."
   ]
  },
  {
   "cell_type": "code",
   "execution_count": 33,
   "metadata": {
    "collapsed": false
   },
   "outputs": [
    {
     "name": "stdout",
     "output_type": "stream",
     "text": [
      "0 : maltese\n",
      "1 : chihuahua\n",
      "2 : australian cattle dog\n",
      "3 : poodle\n"
     ]
    }
   ],
   "source": [
    "i = 0\n",
    "while i < len(dogs):\n",
    "    print(i, ':', dogs[i])\n",
    "    i += 1"
   ]
  },
  {
   "cell_type": "markdown",
   "metadata": {},
   "source": [
    "## Variable (Re-)Assignment"
   ]
  },
  {
   "cell_type": "markdown",
   "metadata": {},
   "source": [
    "Beware (re-)assigning things without warning! Python by default only \"protects\" a certain subset of objects by automatically copying them."
   ]
  },
  {
   "cell_type": "code",
   "execution_count": 28,
   "metadata": {
    "collapsed": false
   },
   "outputs": [
    {
     "name": "stdout",
     "output_type": "stream",
     "text": [
      "Josh once asked, 'Is this distinction useful?'\n",
      "Josh once asked, 'Is this distinction useful?' He got #rekt.\n",
      "['Josh', 'once', 'asked,', \"'Is\", 'this', 'distinction', \"useful?'\", 'He', 'got', '#rekt.']\n",
      "['Josh', 'once', 'asked,', \"'Is\", 'this', 'distinction', \"useful?'\", 'He', 'got', '#rekt.']\n",
      "['Josh', 'once', 'asked,', \"'Is\", 'this', 'distinction', \"useful?'\"]\n",
      "['Josh', 'once', 'asked,', \"'Is\", 'this', 'distinction', \"useful?'\", 'He', 'got', '#rekt.']\n",
      "2\n",
      "5.0\n"
     ]
    }
   ],
   "source": [
    "# Example 1.\n",
    "josh = quote  # reassign\n",
    "josh += \" He got #rekt.\"  # ???\n",
    "print(quote)\n",
    "print(josh)\n",
    "\n",
    "# Example 2.\n",
    "quotes = quote.split()  # reassign\n",
    "josh = quotes\n",
    "josh += \" He got #rekt.\".split()  # ???\n",
    "print(quotes)\n",
    "print(josh)\n",
    "\n",
    "# Example 3.\n",
    "quotes = quote.split()  # reassign\n",
    "josh = quotes[:]\n",
    "josh += \" He got #rekt.\".split()  # ???\n",
    "print(quotes)\n",
    "print(josh)\n",
    "\n",
    "# Example 4.\n",
    "d = b\n",
    "d += 3.\n",
    "print(b)\n",
    "print(d)"
   ]
  },
  {
   "cell_type": "markdown",
   "metadata": {},
   "source": [
    "## Good Coding Practices"
   ]
  },
  {
   "cell_type": "markdown",
   "metadata": {},
   "source": [
    "Finally, now that our code is becoming slightly longer, let's take a step back and talk about good coding practices. Some of these are coded into Python itself."
   ]
  },
  {
   "cell_type": "code",
   "execution_count": 29,
   "metadata": {
    "collapsed": false
   },
   "outputs": [
    {
     "name": "stdout",
     "output_type": "stream",
     "text": [
      "The Zen of Python, by Tim Peters\n",
      "\n",
      "Beautiful is better than ugly.\n",
      "Explicit is better than implicit.\n",
      "Simple is better than complex.\n",
      "Complex is better than complicated.\n",
      "Flat is better than nested.\n",
      "Sparse is better than dense.\n",
      "Readability counts.\n",
      "Special cases aren't special enough to break the rules.\n",
      "Although practicality beats purity.\n",
      "Errors should never pass silently.\n",
      "Unless explicitly silenced.\n",
      "In the face of ambiguity, refuse the temptation to guess.\n",
      "There should be one-- and preferably only one --obvious way to do it.\n",
      "Although that way may not be obvious at first unless you're Dutch.\n",
      "Now is better than never.\n",
      "Although never is often better than *right* now.\n",
      "If the implementation is hard to explain, it's a bad idea.\n",
      "If the implementation is easy to explain, it may be a good idea.\n",
      "Namespaces are one honking great idea -- let's do more of those!\n"
     ]
    }
   ],
   "source": [
    "import this"
   ]
  },
  {
   "cell_type": "markdown",
   "metadata": {},
   "source": [
    "In addition, there's also the [PEP8 style guide](https://www.python.org/dev/peps/pep-0008/)."
   ]
  },
  {
   "cell_type": "markdown",
   "metadata": {},
   "source": [
    "## Review"
   ]
  },
  {
   "cell_type": "markdown",
   "metadata": {},
   "source": [
    "Starting [here](https://github.com/jakevdp/WhirlwindTourOfPython/blob/6f1daf714fe52a8dde6a288674ba46a7feed8816/02-Basic-Python-Syntax.ipynb)."
   ]
  },
  {
   "cell_type": "markdown",
   "metadata": {},
   "source": [
    "## Exercises"
   ]
  },
  {
   "cell_type": "markdown",
   "metadata": {},
   "source": [
    "Courtesy of Luke Kelley.\n",
    "\n",
    "References:\n",
    "- [pyformat.info](pyformat.info)\n",
    "\n",
    "- [docs.python.org/3/library/string.html](https://docs.python.org/3/library/string.html#format-specification-mini-language)"
   ]
  },
  {
   "cell_type": "markdown",
   "metadata": {},
   "source": [
    "Starting with the following variables:"
   ]
  },
  {
   "cell_type": "code",
   "execution_count": 35,
   "metadata": {
    "collapsed": true
   },
   "outputs": [],
   "source": [
    "title = \"Banneker + Aztlan Initiative\"\n",
    "month = 6\n",
    "day = 11\n",
    "year = 2018\n",
    "width = 30"
   ]
  },
  {
   "cell_type": "markdown",
   "metadata": {},
   "source": [
    "**1) Write out the date in the following formats using the above variables:**\n",
    "\n",
    "a) *Note that the month is \"zero-padded\" ('`06`', instead of just '`6`'):*\n",
    "```\n",
    "2018/06/11\n",
    "```\n",
    "\n",
    "b) *Note that only the last two digits of the year are shown:*\n",
    "```\n",
    "06/11/18\n",
    "```"
   ]
  },
  {
   "cell_type": "markdown",
   "metadata": {},
   "source": [
    "### 2) Draw an underline to match '`title`'\n",
    "\n",
    "Print out the following string using the `title` variable and without manually typing more than a single '`=`' character:\n",
    "```\n",
    "Banneker + Aztlan Initiative\n",
    "============================\n",
    "```\n",
    "\n",
    "*Hint: Not only can you add two strings together (i.e. `abc` + `def`), but you can also multiple a string by an integer - try it!*"
   ]
  },
  {
   "cell_type": "markdown",
   "metadata": {},
   "source": [
    "### 3) Use a `for`-loop and `if`-statement to write:\n",
    "\n",
    "Note: *there are `width` (i.e. 30) characters between each pair of \"pipes\": `|...|`*\n",
    "\n",
    "```\n",
    "|==============================|\n",
    "|Banneker                      |\n",
    "|                        Aztlan|\n",
    "|          Initiative          |\n",
    "|          2018/06/11          |\n",
    "|==============================|\n",
    "```"
   ]
  }
 ],
 "metadata": {
  "anaconda-cloud": {},
  "kernelspec": {
   "display_name": "Python [default]",
   "language": "python",
   "name": "python2"
  },
  "language_info": {
   "codemirror_mode": {
    "name": "ipython",
    "version": 2
   },
   "file_extension": ".py",
   "mimetype": "text/x-python",
   "name": "python",
   "nbconvert_exporter": "python",
   "pygments_lexer": "ipython2",
   "version": "2.7.12"
  }
 },
 "nbformat": 4,
 "nbformat_minor": 1
}
